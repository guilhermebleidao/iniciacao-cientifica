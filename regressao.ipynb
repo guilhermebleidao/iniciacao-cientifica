{
 "cells": [
  {
   "cell_type": "code",
   "execution_count": null,
   "source": [
    "from sklearn.datasets import load_boston\n",
    "boston = load_boston()\n",
    "boston.keys()"
   ],
   "outputs": [],
   "metadata": {}
  },
  {
   "cell_type": "code",
   "execution_count": null,
   "source": [
    "# Convenção X -> dados | y -> target\n",
    "X, y = boston.data, boston.target\n",
    "X.shape, y.shape"
   ],
   "outputs": [],
   "metadata": {}
  },
  {
   "cell_type": "code",
   "execution_count": null,
   "source": [
    "import matplotlib.pylab as plt\n",
    "\n",
    "# Plota os gráficos das características x target\n",
    "for i in range(X.shape[1]):\n",
    "    print(i)\n",
    "    plt.scatter(X[:,i], y)\n",
    "    plt.show()"
   ],
   "outputs": [],
   "metadata": {}
  },
  {
   "cell_type": "code",
   "execution_count": null,
   "source": [
    "# Gráfico promissor para aproximação linear\n",
    "X12 = X[:,12:13]\n",
    "plt.scatter(X12,y)\n",
    "plt.show()"
   ],
   "outputs": [],
   "metadata": {}
  },
  {
   "cell_type": "code",
   "execution_count": null,
   "source": [
    "def modelo_linear(X, a, b):\n",
    "    y = a*X + b\n",
    "    return y\n",
    "\n",
    "plt.scatter(X12, y)\n",
    "yPred = modelo_linear(X12, -1, 40)\n",
    "plt.plot(X12, yPred, 'r')\n",
    "plt.show()"
   ],
   "outputs": [],
   "metadata": {}
  },
  {
   "cell_type": "code",
   "execution_count": null,
   "source": [
    "# Métricas de desempenho\n",
    "\n",
    "# Mean Absolute Error\n",
    "def mae(y, yPred):\n",
    "    yDiff = yPred - y.reshape(-1, 1)\n",
    "    yAbs = abs(yDiff)\n",
    "    errorSum = sum(yAbs)\n",
    "    mae = errorSum / len(yAbs)\n",
    "    return mae\n",
    "yPred = modelo_linear(X12, -1, 40)\n",
    "mae(y, yPred)"
   ],
   "outputs": [],
   "metadata": {}
  },
  {
   "cell_type": "code",
   "execution_count": null,
   "source": [
    "# Mean Square Error\n",
    "def mse(y, yPred):\n",
    "    yDiff = yPred - y.reshape(-1, 1)\n",
    "    yDiffSquare = yDiff ** 2\n",
    "    errorSum = sum(yDiffSquare)\n",
    "    mse = errorSum / len(yDiffSquare)\n",
    "    return mse\n",
    "yPred - modelo_linear(X12, -1, 40)\n",
    "mse(y, yPred)"
   ],
   "outputs": [],
   "metadata": {}
  },
  {
   "cell_type": "code",
   "execution_count": null,
   "source": [
    "from math import sqrt\n",
    "\n",
    "# Root Mean Square Error\n",
    "def rmse(y, yPred):\n",
    "    yDiff = yPred - y.reshape(-1, 1)\n",
    "    yDiffSquare = yDiff ** 2\n",
    "    errorSum = sum(yDiffSquare)\n",
    "    mse = errorSum / len(yDiffSquare)\n",
    "    return sqrt(mse)\n",
    "yPred - modelo_linear(X12, -1, 40)\n",
    "rmse(y, yPred)"
   ],
   "outputs": [],
   "metadata": {}
  },
  {
   "cell_type": "code",
   "execution_count": null,
   "source": [
    "from sklearn.metrics import mean_squared_error\n",
    "from math import sqrt\n",
    "\n",
    "# Root Mean Square Error a partir do MSE do sklearn\n",
    "def rmse(y, yPred):\n",
    "    mse = mean_squared_error(y, yPred)\n",
    "    return sqrt(mse)\n",
    "rmse(y, yPred)\n"
   ],
   "outputs": [],
   "metadata": {}
  },
  {
   "cell_type": "code",
   "execution_count": null,
   "source": [
    "from sklearn.metrics import mean_squared_error\n",
    "import numpy as np\n",
    "\n",
    "# Classe modelo para regressão\n",
    "class regressao_linear():\n",
    "    def __init__(self):\n",
    "        self.w = np.zeros((2, 1))   # [b, a]\n",
    "\n",
    "    @staticmethod\n",
    "    def addBias(X):\n",
    "        bias = np.ones((X.shape[0], 1))\n",
    "        X_b = np.concatenate((bias, X), axis=1)\n",
    "        return X_b\n",
    "\n",
    "    def fit(self, X,y):\n",
    "        X_b = self.addBias(X)\n",
    "        for _ in range(500):\n",
    "            yPred = self.predict(X)\n",
    "            erro = yPred - y.reshape(-1, 1)\n",
    "            \n",
    "            ajuste = X_b.T.dot(erro)/sum(X_b).reshape(-1, 1)\n",
    "            self.w -= 0.1*ajuste\n",
    "\n",
    "    def predict(self, X):\n",
    "        X_b = self.addBias(X)\n",
    "        y = X_b.dot(self.w)\n",
    "        return y\n",
    "\n",
    "plt.scatter(X12, y)\n",
    "\n",
    "# Predição inicial\n",
    "modelo = regressao_linear()\n",
    "yPred = modelo.predict(X12)\n",
    "print(rmse(y, yPred))\n",
    "plt.plot(X12, yPred, 'r')\n",
    "\n",
    "# Predição treinada\n",
    "modelo.fit(X12, y)\n",
    "yPred = modelo.predict(X12)\n",
    "print(rmse(y, yPred))\n",
    "plt.plot(X12, yPred, 'g')\n",
    "plt.show()\n",
    "modelo.w"
   ],
   "outputs": [],
   "metadata": {}
  },
  {
   "cell_type": "code",
   "execution_count": null,
   "source": [
    "from sklearn.metrics import mean_squared_error\n",
    "import numpy as np\n",
    "\n",
    "# Gráfico 3d para análise do erro\n",
    "\n",
    "w0 = np.linspace(33, 36, 30)\n",
    "w1 = np.linspace(-1, -0.8, 30)\n",
    "def z_function(w0, w1):\n",
    "    modelo = regressao_linear()\n",
    "    Erro = np.empty(w0.shape)\n",
    "    for j in range(Erro.shape[0]):\n",
    "        for k in range(Erro.shape[1]):\n",
    "            modelo.w[0] = w0[j][k]\n",
    "            modelo.w[1] = w1[j][k]\n",
    "            yPred = modelo.predict(X12)\n",
    "            mse = mean_squared_error(y, yPred)\n",
    "            Erro[j][k] = mse\n",
    "    return Erro\n",
    "\n",
    "ax = plt.axes(projection='3d')\n",
    "w0, w1 = np.meshgrid(w0, w1)\n",
    "Erro = z_function(w0, w1)\n",
    "\n",
    "ax.plot_wireframe(w0, w1, Erro)\n",
    "ax.plot_surface(w0, w1, Erro, rstride=1, cstride=1, alpha=0.75,\n",
    "                cmap='coolwarm', edgecolor='none')"
   ],
   "outputs": [],
   "metadata": {}
  },
  {
   "cell_type": "code",
   "execution_count": null,
   "source": [
    "# Gráfico de erro para W0\n",
    "plt.ylabel('Erro')\n",
    "plt.xlabel('W0')\n",
    "i = 8\n",
    "plt.plot(w0[i,:], Erro[i,:])\n",
    "plt.show()"
   ],
   "outputs": [],
   "metadata": {}
  },
  {
   "cell_type": "code",
   "execution_count": null,
   "source": [
    "# Gráfico de erro para W1\n",
    "plt.ylabel('Erro')\n",
    "plt.xlabel('W1')\n",
    "i = 8\n",
    "plt.plot(w1[:,i], Erro[:,i])\n",
    "plt.show()"
   ],
   "outputs": [],
   "metadata": {}
  }
 ],
 "metadata": {
  "orig_nbformat": 4,
  "language_info": {
   "name": "python",
   "version": "3.8.10",
   "mimetype": "text/x-python",
   "codemirror_mode": {
    "name": "ipython",
    "version": 3
   },
   "pygments_lexer": "ipython3",
   "nbconvert_exporter": "python",
   "file_extension": ".py"
  },
  "kernelspec": {
   "name": "python3",
   "display_name": "Python 3.8.10 64-bit ('.venv': venv)"
  },
  "interpreter": {
   "hash": "09c2df3ee50c22e8440334ede1afdd35f7b42680644c1dd6d7cb2d093d5321c7"
  }
 },
 "nbformat": 4,
 "nbformat_minor": 2
}