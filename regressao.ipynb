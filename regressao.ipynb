{
 "cells": [
  {
   "cell_type": "code",
   "execution_count": null,
   "source": [
    "from sklearn.datasets import load_boston\n",
    "boston = load_boston()\n",
    "boston.keys()"
   ],
   "outputs": [],
   "metadata": {}
  },
  {
   "cell_type": "code",
   "execution_count": null,
   "source": [
    "# Convenção X -> dados | y -> target\n",
    "X, y = boston.data, boston.target\n",
    "X.shape, y.shape"
   ],
   "outputs": [],
   "metadata": {}
  },
  {
   "cell_type": "code",
   "execution_count": null,
   "source": [
    "import matplotlib.pylab as plt\n",
    "\n",
    "# Plota os gráficos das características x target\n",
    "for i in range(X.shape[1]):\n",
    "    print(i)\n",
    "    plt.scatter(X[:,i], y)\n",
    "    plt.show()"
   ],
   "outputs": [],
   "metadata": {}
  },
  {
   "cell_type": "code",
   "execution_count": null,
   "source": [
    "# Gráfico promissor para aproximação linear\n",
    "X12 = X[:,12:13]\n",
    "plt.scatter(X12,y)\n",
    "plt.show()"
   ],
   "outputs": [],
   "metadata": {}
  },
  {
   "cell_type": "code",
   "execution_count": null,
   "source": [
    "def modelo_linear(X, a, b):\n",
    "    y = a*X + b\n",
    "    return y\n",
    "\n",
    "plt.scatter(X12, y)\n",
    "yPred = modelo_linear(X12, -1, 40)\n",
    "plt.plot(X12, yPred, 'r')\n",
    "plt.show()"
   ],
   "outputs": [],
   "metadata": {}
  },
  {
   "cell_type": "code",
   "execution_count": null,
   "source": [
    "# Métricas de desempenho\n",
    "\n",
    "# Mean Absolute Error\n",
    "def mae(y, yPred):\n",
    "    yDiff = yPred - y.reshape(-1, 1)\n",
    "    yAbs = abs(yDiff)\n",
    "    errorSum = sum(yAbs)\n",
    "    mae = errorSum / len(yAbs)\n",
    "    return mae\n",
    "yPred = modelo_linear(X12, -1, 40)\n",
    "mae(y, yPred)"
   ],
   "outputs": [],
   "metadata": {}
  },
  {
   "cell_type": "code",
   "execution_count": null,
   "source": [
    "# Mean Square Error\n",
    "def mse(y, yPred):\n",
    "    yDiff = yPred - y.reshape(-1, 1)\n",
    "    yDiffSquare = yDiff ** 2\n",
    "    errorSum = sum(yDiffSquare)\n",
    "    mse = errorSum / len(yDiffSquare)\n",
    "    return mse\n",
    "yPred - modelo_linear(X12, -1, 40)\n",
    "mse(y, yPred)"
   ],
   "outputs": [],
   "metadata": {}
  },
  {
   "cell_type": "code",
   "execution_count": null,
   "source": [
    "from math import sqrt\n",
    "\n",
    "# Root Mean Square Error\n",
    "def rmse(y, yPred):\n",
    "    yDiff = yPred - y.reshape(-1, 1)\n",
    "    yDiffSquare = yDiff ** 2\n",
    "    errorSum = sum(yDiffSquare)\n",
    "    mse = errorSum / len(yDiffSquare)\n",
    "    return sqrt(mse)\n",
    "yPred - modelo_linear(X12, -1, 40)\n",
    "rmse(y, yPred)"
   ],
   "outputs": [],
   "metadata": {}
  },
  {
   "cell_type": "code",
   "execution_count": null,
   "source": [
    "from sklearn.metrics import mean_squared_error\n",
    "from math import sqrt\n",
    "\n",
    "# Root Mean Square Error a partir do MSE do sklearn\n",
    "def rmse(y, yPred):\n",
    "    mse = mean_squared_error(y, yPred)\n",
    "    return sqrt(mse)\n",
    "rmse(y, yPred)\n"
   ],
   "outputs": [],
   "metadata": {}
  },
  {
   "cell_type": "code",
   "execution_count": null,
   "source": [
    "from sklearn.metrics import mean_squared_error\n",
    "\n",
    "# Classe modelo para regressão\n",
    "class regressao_linear():\n",
    "    def __init__(self):\n",
    "        self.a = 0\n",
    "        self.b = 0\n",
    "\n",
    "    def fit(self, X,y):\n",
    "        for _ in range(200):\n",
    "            yPred = self.predict(X)\n",
    "            erro = yPred - y.reshape(-1, 1)\n",
    "            \n",
    "            ajusteB = sum(erro)/len(erro)\n",
    "            self.b -= 0.1*ajusteB\n",
    "\n",
    "            ajusteA = sum(erro[i]*X[i] for i in range(X.shape[0]))/sum(X)\n",
    "            self.a -= 0.1*ajusteA[0]\n",
    "\n",
    "    def predict(self, X):\n",
    "        y = self.a*X + self.b\n",
    "        return y\n",
    "\n",
    "plt.scatter(X12, y)\n",
    "\n",
    "# Predição inicial\n",
    "modelo = regressao_linear()\n",
    "yPred = modelo.predict(X12)\n",
    "print(mean_squared_error(y, yPred))\n",
    "plt.plot(X12, yPred, 'r')\n",
    "\n",
    "# Predição treinada\n",
    "modelo.fit(X12, y)\n",
    "yPred = modelo.predict(X12)\n",
    "print(mean_squared_error(y, yPred))\n",
    "plt.plot(X12, yPred, 'g')\n",
    "plt.show()"
   ],
   "outputs": [],
   "metadata": {}
  }
 ],
 "metadata": {
  "orig_nbformat": 4,
  "language_info": {
   "name": "python",
   "version": "3.8.10",
   "mimetype": "text/x-python",
   "codemirror_mode": {
    "name": "ipython",
    "version": 3
   },
   "pygments_lexer": "ipython3",
   "nbconvert_exporter": "python",
   "file_extension": ".py"
  },
  "kernelspec": {
   "name": "python3",
   "display_name": "Python 3.8.10 64-bit ('.venv': venv)"
  },
  "interpreter": {
   "hash": "ae0ce062551acb2b89e832643a8960d2041ae3baa480510acb50f796d344d213"
  }
 },
 "nbformat": 4,
 "nbformat_minor": 2
}