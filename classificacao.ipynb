{
 "cells": [
  {
   "cell_type": "code",
   "execution_count": null,
   "source": [
    "from sklearn.datasets import load_breast_cancer\n",
    "\n",
    "breast_cancer = load_breast_cancer()\n",
    "breast_cancer.keys()"
   ],
   "outputs": [],
   "metadata": {}
  },
  {
   "cell_type": "code",
   "execution_count": null,
   "source": [
    "X, y = breast_cancer.data, breast_cancer.target\n",
    "X.shape, y.shape"
   ],
   "outputs": [],
   "metadata": {}
  },
  {
   "cell_type": "code",
   "execution_count": null,
   "source": [
    "import matplotlib.pyplot as plt\n",
    "\n",
    "for i in range(3):\n",
    "    plt.xlabel(f'{i}: {breast_cancer.feature_names[i]}')\n",
    "    plt.ylabel('Classificação')\n",
    "    plt.scatter(X[:,i], y)\n",
    "    plt.show()\n"
   ],
   "outputs": [],
   "metadata": {}
  },
  {
   "cell_type": "code",
   "execution_count": null,
   "source": [
    "X27 = X[:,27:28]\n",
    "plt.xlabel(f'27: {breast_cancer.feature_names[27]}')\n",
    "plt.ylabel('Classificação')\n",
    "plt.scatter(X27, y)\n",
    "plt.show()"
   ],
   "outputs": [],
   "metadata": {}
  },
  {
   "cell_type": "code",
   "execution_count": null,
   "source": [
    "from sklearn.linear_model import LinearRegression\n",
    "from sklearn.metrics import mean_squared_error\n",
    "\n",
    "# Adaptação da regressão linear\n",
    "class ClassificadorLinear():\n",
    "    def __init__(self):\n",
    "        self.lrmodel = LinearRegression()\n",
    "    \n",
    "    def fit(self, X, y):\n",
    "        self.lrmodel.fit(X, y)\n",
    "    def predict(self, X):\n",
    "        yPred = self.lrmodel.predict(X)\n",
    "        yPred = (yPred>0.5).astype(int) # ajuste para respostas discretas (binário)\n",
    "        return yPred\n",
    "\n",
    "plt.xlabel(f'27: {breast_cancer.feature_names[27]}')\n",
    "plt.ylabel('Classificação')\n",
    "plt.scatter(X27, y)\n",
    "\n",
    "modelo = ClassificadorLinear()\n",
    "modelo.fit(X27, y)\n",
    "yPred = modelo.predict(X27)\n",
    "erro = mean_squared_error(y, yPred)\n",
    "\n",
    "plt.plot(X27, yPred, 'ro', label=f'erro: {erro}', alpha=0.5)\n",
    "plt.legend()\n",
    "plt.show()"
   ],
   "outputs": [],
   "metadata": {}
  },
  {
   "cell_type": "code",
   "execution_count": null,
   "source": [
    "# Proporção de acertos em relação aos erros\n",
    "acuracia = sum(y==yPred)/len(y)\n",
    "acuracia, 1-erro # a acurácia é o complemento do erro"
   ],
   "outputs": [],
   "metadata": {}
  },
  {
   "cell_type": "code",
   "execution_count": null,
   "source": [
    "from sklearn.metrics import accuracy_score\n",
    "print(accuracy_score(y, yPred))"
   ],
   "outputs": [],
   "metadata": {}
  }
 ],
 "metadata": {
  "orig_nbformat": 4,
  "language_info": {
   "name": "python",
   "version": "3.8.10",
   "mimetype": "text/x-python",
   "codemirror_mode": {
    "name": "ipython",
    "version": 3
   },
   "pygments_lexer": "ipython3",
   "nbconvert_exporter": "python",
   "file_extension": ".py"
  },
  "kernelspec": {
   "name": "python3",
   "display_name": "Python 3.8.10 64-bit ('.venv': venv)"
  },
  "interpreter": {
   "hash": "09c2df3ee50c22e8440334ede1afdd35f7b42680644c1dd6d7cb2d093d5321c7"
  }
 },
 "nbformat": 4,
 "nbformat_minor": 2
}